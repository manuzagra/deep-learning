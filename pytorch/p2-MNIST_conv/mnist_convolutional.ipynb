{
 "cells": [
  {
   "cell_type": "code",
   "execution_count": 1,
   "metadata": {},
   "outputs": [],
   "source": [
    "# import libraries\n",
    "import torch\n",
    "import numpy as np"
   ]
  },
  {
   "cell_type": "markdown",
   "metadata": {},
   "source": [
    "## Load and analyze the data"
   ]
  },
  {
   "cell_type": "markdown",
   "metadata": {},
   "source": [
    "### Load the data and create dataloaders\n",
    "\n",
    "source: http://pytorch.org/docs/stable/torchvision/datasets.html"
   ]
  },
  {
   "cell_type": "code",
   "execution_count": 2,
   "metadata": {},
   "outputs": [],
   "source": [
    "from torchvision import datasets\n",
    "import torchvision.transforms as transforms\n",
    "\n",
    "# download the training and testing datasets\n",
    "# transform then to tensors\n",
    "train_dataset = datasets.MNIST(root='./data', train=True, download=True, transform=transforms.ToTensor())\n",
    "test_dataset = datasets.MNIST(root='./data', train=False, download=True, transform=transforms.ToTensor())"
   ]
  },
  {
   "cell_type": "code",
   "execution_count": 3,
   "metadata": {},
   "outputs": [],
   "source": [
    "from sklearn.model_selection import train_test_split\n",
    "\n",
    "# split train dataset in train and validation datasets\n",
    "# probably SubsetRandomSampler is a better way\n",
    "train_dataset, valid_dataset = train_test_split(train_dataset, train_size=0.8, random_state=42)"
   ]
  },
  {
   "cell_type": "code",
   "execution_count": 4,
   "metadata": {},
   "outputs": [
    {
     "name": "stdout",
     "output_type": "stream",
     "text": [
      "48000 samples for training.\n",
      "12000 samples for evaluation.\n",
      "10000 samples for testing.\n"
     ]
    }
   ],
   "source": [
    "from sklearn.model_selection import train_test_split\n",
    "from torch.utils.data.sampler import SubsetRandomSampler\n",
    "\n",
    "# batch size\n",
    "batch_size = 20\n",
    "\n",
    "# prepare dataloaders\n",
    "train_loader = torch.utils.data.DataLoader(train_dataset, batch_size=batch_size, shuffle=True, num_workers=0) # only train should be shuffled\n",
    "valid_loader = torch.utils.data.DataLoader(valid_dataset, batch_size=batch_size, shuffle=False, num_workers=0)\n",
    "test_loader = torch.utils.data.DataLoader(test_dataset, batch_size=batch_size, shuffle=False, num_workers=0)\n",
    "\n",
    "print(f'{len(train_loader.sampler)} samples for training.')\n",
    "print(f'{len(valid_loader.sampler)} samples for evaluation.')\n",
    "print(f'{len(test_loader.sampler)} samples for testing.')"
   ]
  },
  {
   "cell_type": "markdown",
   "metadata": {},
   "source": [
    "### Analyze the data\n",
    "\n",
    "This repository is already processed and we do not have to take care so we are just going to take a look and visualize a Batch of the data."
   ]
  },
  {
   "cell_type": "code",
   "execution_count": 5,
   "metadata": {},
   "outputs": [
    {
     "data": {
      "image/png": "[encoded data removed]",
      "text/plain": [
       "<Figure size 1800x288 with 20 Axes>"
      ]
     },
     "metadata": {},
     "output_type": "display_data"
    }
   ],
   "source": [
    "import matplotlib.pyplot as plt\n",
    "%matplotlib inline\n",
    "    \n",
    "# get one batch of the training images and plot them\n",
    "images, labels = iter(train_loader).next()\n",
    "images = images.numpy()\n",
    "\n",
    "fig = plt.figure(figsize=(25, 4))\n",
    "for idx in np.arange(batch_size):\n",
    "    ax = fig.add_subplot(2, batch_size/2, idx+1, xticks=[], yticks=[])\n",
    "    ax.imshow(np.squeeze(images[idx]), cmap='gray')\n",
    "    ax.set_title(str(labels[idx].item()), color=('black'))"
   ]
  },
  {
   "cell_type": "markdown",
   "metadata": {},
   "source": [
    "## Network Architecture\n",
    "\n",
    "The input is going to be an image (28x28x1) and the output must be a classification in 10 classes (0-9). The number and the size of the hidden layers can be variable."
   ]
  },
  {
   "cell_type": "code",
   "execution_count": 36,
   "metadata": {},
   "outputs": [],
   "source": [
    "import torch.nn as nn\n",
    "import torch.nn.functional as F\n",
    "\n",
    "# define the NN architecture\n",
    "class Net(nn.Module):\n",
    "    def __init__(self, input_dim, input_depth, output_dim, hiden_layers):\n",
    "        super().__init__()\n",
    "        \n",
    "        layers = []\n",
    "        last_dim = input_dim\n",
    "        last_depth = input_depth\n",
    "        next_depth = 32\n",
    "        \n",
    "        for i in range(hiden_layers):\n",
    "            layers.append(nn.Conv2d(last_depth, next_depth, kernel_size=3, stride=1, padding=1))\n",
    "            layers.append(nn.ReLU())\n",
    "            layers.append(nn.MaxPool2d(kernel_size=2, stride=2))\n",
    "            last_dim = last_dim / 4\n",
    "            last_depth = next_depth\n",
    "            next_depth = 2 * next_depth\n",
    "        \n",
    "        self.features = nn.Sequential(*layers)\n",
    "            \n",
    "        self.classifier = nn.Linear(int(last_dim * last_depth), output_dim)\n",
    "        self.input_dim = int(last_dim * last_depth)\n",
    "\n",
    "    def forward(self, x):\n",
    "        # pass though the network\n",
    "        x = self.features(x)\n",
    "        x = x.view(-1, self.input_dim)\n",
    "        x = self.classifier(x)\n",
    "        return x"
   ]
  },
  {
   "cell_type": "code",
   "execution_count": 37,
   "metadata": {},
   "outputs": [
    {
     "name": "stdout",
     "output_type": "stream",
     "text": [
      "1 32\n",
      "32 64\n",
      "Net(\n",
      "  (features): Sequential(\n",
      "    (0): Conv2d(1, 32, kernel_size=(3, 3), stride=(1, 1), padding=(1, 1))\n",
      "    (1): ReLU()\n",
      "    (2): MaxPool2d(kernel_size=2, stride=2, padding=0, dilation=1, ceil_mode=False)\n",
      "    (3): Conv2d(32, 64, kernel_size=(3, 3), stride=(1, 1), padding=(1, 1))\n",
      "    (4): ReLU()\n",
      "    (5): MaxPool2d(kernel_size=2, stride=2, padding=0, dilation=1, ceil_mode=False)\n",
      "  )\n",
      "  (classifier): Linear(in_features=3136, out_features=10, bias=True)\n",
      ")\n"
     ]
    }
   ],
   "source": [
    "# create the network with 2 convolutional layers and a fully ocnnected as classifier\n",
    "model = Net(28*28, 1, 10, 2)\n",
    "print(model)"
   ]
  },
  {
   "cell_type": "markdown",
   "metadata": {},
   "source": [
    "###  Loss Function and Optimizer\n",
    "\n",
    "Cross-entropy loss is a good start for classification (notice that softmax is not applied after the last fully connected layer in order to get the digits and no the probabilities) and the use of Adam optimizer for this kind of problems is quite standard."
   ]
  },
  {
   "cell_type": "code",
   "execution_count": 38,
   "metadata": {},
   "outputs": [],
   "source": [
    "# cross-entropy loss\n",
    "loss_fn = nn.CrossEntropyLoss()\n",
    "\n",
    "# adam optimizer\n",
    "optimizer = torch.optim.Adam(model.parameters())"
   ]
  },
  {
   "cell_type": "markdown",
   "metadata": {},
   "source": [
    "## Train"
   ]
  },
  {
   "cell_type": "code",
   "execution_count": 39,
   "metadata": {},
   "outputs": [
    {
     "data": {
      "text/plain": [
       "device(type='cuda')"
      ]
     },
     "execution_count": 39,
     "metadata": {},
     "output_type": "execute_result"
    }
   ],
   "source": [
    "# this function checks if GPU is available, if it is we will use to train the model\n",
    "def get_device():\n",
    "    return torch.device('cuda') if torch.cuda.is_available() else torch.device('cpu')\n",
    "get_device()"
   ]
  },
  {
   "cell_type": "code",
   "execution_count": 40,
   "metadata": {},
   "outputs": [],
   "source": [
    "# this function trains the model for one epoch\n",
    "def train(model, dataloader, optimizer, loss_fn):\n",
    "    # check if GPU is available, if it is use it\n",
    "    device = get_device()\n",
    "    # pass the model to the device and put it in training mode\n",
    "    model.to(device)\n",
    "    model.train()\n",
    "    # initialize the loss\n",
    "    total_loss = 0.0\n",
    "    # for every batch\n",
    "    for batch_idx, (data, target) in enumerate(dataloader):\n",
    "        # use GPU if available\n",
    "        data, target = data.to(device), target.to(device)\n",
    "        # restart the gradient\n",
    "        optimizer.zero_grad()\n",
    "        # forward pass\n",
    "        output = model(data)\n",
    "        # calculate the loss\n",
    "        loss = loss_fn(output, target)\n",
    "        # back propagation\n",
    "        loss.backward()\n",
    "        optimizer.step()\n",
    "        # update the loss\n",
    "        total_loss += loss.item()*len(data)\n",
    "    return total_loss/len(dataloader.dataset)"
   ]
  },
  {
   "cell_type": "code",
   "execution_count": 41,
   "metadata": {},
   "outputs": [],
   "source": [
    "# this function evaluate the performance of the model\n",
    "def test(model, dataloader, loss_fn):\n",
    "    # check if GPU is available, if it is use it\n",
    "    device = get_device()\n",
    "    # pass the model to the device and put it in evaluation mode\n",
    "    model.to(device)\n",
    "    model.eval()\n",
    "    # initialize the loss and the count of correct predictions\n",
    "    total_loss = 0.0\n",
    "    correct = 0\n",
    "    # not need of gradients for test (it may save some time and/or memory)\n",
    "    with torch.no_grad():\n",
    "        # for every batch\n",
    "        for batch_idx, (data, target) in enumerate(dataloader):\n",
    "            # use GPU if available\n",
    "            data, target = data.to(device), target.to(device)\n",
    "            # forward pass\n",
    "            output = model(data)\n",
    "            # calculate the loss\n",
    "            loss = loss_fn(output, target)\n",
    "            # update the loss\n",
    "            total_loss += loss.item()*len(data)\n",
    "            # it is nice to hace the accuracy as well\n",
    "            pred = output.argmax(dim=1, keepdim=True)  # get the index of the maximum\n",
    "            correct += pred.eq(target.view_as(pred)).sum().item()\n",
    "    return total_loss/len(dataloader.dataset), correct/len(dataloader.dataset)"
   ]
  },
  {
   "cell_type": "code",
   "execution_count": 42,
   "metadata": {},
   "outputs": [
    {
     "name": "stdout",
     "output_type": "stream",
     "text": [
      "Epoch 1/10\t\tTraining loss 0.1517\t\tValidation loss 0.0529\t\tValidation accuracy 0.9835\n",
      "Saving model...\n",
      "Epoch 2/10\t\tTraining loss 0.0509\t\tValidation loss 0.0461\t\tValidation accuracy 0.9857\n",
      "Saving model...\n",
      "Epoch 3/10\t\tTraining loss 0.0358\t\tValidation loss 0.0378\t\tValidation accuracy 0.9883\n",
      "Saving model...\n",
      "Epoch 4/10\t\tTraining loss 0.0264\t\tValidation loss 0.0454\t\tValidation accuracy 0.9871\n",
      "Epoch 5/10\t\tTraining loss 0.0213\t\tValidation loss 0.0500\t\tValidation accuracy 0.9868\n",
      "Epoch 6/10\t\tTraining loss 0.0159\t\tValidation loss 0.0409\t\tValidation accuracy 0.9894\n",
      "Epoch 7/10\t\tTraining loss 0.0128\t\tValidation loss 0.0443\t\tValidation accuracy 0.9880\n",
      "Epoch 8/10\t\tTraining loss 0.0115\t\tValidation loss 0.0467\t\tValidation accuracy 0.9887\n",
      "Epoch 9/10\t\tTraining loss 0.0084\t\tValidation loss 0.0491\t\tValidation accuracy 0.9879\n",
      "Epoch 10/10\t\tTraining loss 0.0068\t\tValidation loss 0.0536\t\tValidation accuracy 0.9893\n"
     ]
    }
   ],
   "source": [
    "# number of epochs\n",
    "n_epochs = 10\n",
    "\n",
    "# we will keep track of the minimum validation loss achived and use it to save or not the model\n",
    "valid_loss_min = float('INF')\n",
    "# train the model for n_epochs epochs\n",
    "for epoch in range(n_epochs):\n",
    "    train_loss = train(model, train_loader, optimizer, loss_fn)\n",
    "    valid_loss, valid_acc = test(model, valid_loader, loss_fn)\n",
    "    print(f'Epoch {epoch+1}/{n_epochs}\\t\\tTraining loss {train_loss:.4f}\\t\\tValidation loss {valid_loss:.4f}\\t\\tValidation accuracy {valid_acc:.4f}')\n",
    "    \n",
    "    # save model only if validation loss has decreased\n",
    "    if valid_loss <= valid_loss_min:\n",
    "        print('Saving model...')\n",
    "        torch.save({'model': str(model), 'state_dict': model.state_dict()}, 'model.pt')\n",
    "        valid_loss_min = valid_loss"
   ]
  },
  {
   "cell_type": "markdown",
   "metadata": {},
   "source": [
    "###  Load \"the best\" Model"
   ]
  },
  {
   "cell_type": "code",
   "execution_count": 43,
   "metadata": {},
   "outputs": [
    {
     "name": "stdout",
     "output_type": "stream",
     "text": [
      "Saved model architecture:\n",
      "Net(\n",
      "  (features): Sequential(\n",
      "    (0): Conv2d(1, 32, kernel_size=(3, 3), stride=(1, 1), padding=(1, 1))\n",
      "    (1): ReLU()\n",
      "    (2): MaxPool2d(kernel_size=2, stride=2, padding=0, dilation=1, ceil_mode=False)\n",
      "    (3): Conv2d(32, 64, kernel_size=(3, 3), stride=(1, 1), padding=(1, 1))\n",
      "    (4): ReLU()\n",
      "    (5): MaxPool2d(kernel_size=2, stride=2, padding=0, dilation=1, ceil_mode=False)\n",
      "  )\n",
      "  (classifier): Linear(in_features=3136, out_features=10, bias=True)\n",
      ")\n",
      "-------------------------------------\n",
      "Current model architecture:\n",
      "Net(\n",
      "  (features): Sequential(\n",
      "    (0): Conv2d(1, 32, kernel_size=(3, 3), stride=(1, 1), padding=(1, 1))\n",
      "    (1): ReLU()\n",
      "    (2): MaxPool2d(kernel_size=2, stride=2, padding=0, dilation=1, ceil_mode=False)\n",
      "    (3): Conv2d(32, 64, kernel_size=(3, 3), stride=(1, 1), padding=(1, 1))\n",
      "    (4): ReLU()\n",
      "    (5): MaxPool2d(kernel_size=2, stride=2, padding=0, dilation=1, ceil_mode=False)\n",
      "  )\n",
      "  (classifier): Linear(in_features=3136, out_features=10, bias=True)\n",
      ")\n"
     ]
    }
   ],
   "source": [
    "saved = torch.load('model.pt')\n",
    "model.load_state_dict(saved['state_dict'], strict=False) # strict false allow us to partially load a model or load a partial model\n",
    "print('Saved model architecture:')\n",
    "print(saved['model'])\n",
    "print('-------------------------------------')\n",
    "print('Current model architecture:')\n",
    "print(saved['model'])"
   ]
  },
  {
   "cell_type": "markdown",
   "metadata": {},
   "source": [
    "## Test\n",
    "\n",
    "Testing should always be performed on unseen data. It is possible to do a more detailed analysis, for example testing the performance of the model in each class."
   ]
  },
  {
   "cell_type": "code",
   "execution_count": 44,
   "metadata": {},
   "outputs": [
    {
     "name": "stdout",
     "output_type": "stream",
     "text": [
      "Test loss 0.0333\t\tTest accuracy 0.9883\n"
     ]
    }
   ],
   "source": [
    "# we can use the same function than before\n",
    "test_loss, test_acc = test(model, test_loader, loss_fn)\n",
    "print(f'Test loss {test_loss:.4f}\\t\\tTest accuracy {test_acc:.4f}')"
   ]
  },
  {
   "cell_type": "markdown",
   "metadata": {},
   "source": [
    "### Visualize Results"
   ]
  },
  {
   "cell_type": "code",
   "execution_count": 53,
   "metadata": {},
   "outputs": [
    {
     "data": {
      "image/png": "[encoded data removed]",
      "text/plain": [
       "<Figure size 1800x288 with 20 Axes>"
      ]
     },
     "metadata": {},
     "output_type": "display_data"
    }
   ],
   "source": [
    "# test is not as heavy computation as training so we use the CPU\n",
    "model.cpu()\n",
    "\n",
    "# get one batch of the training images and plot them\n",
    "images, labels = iter(train_loader).next()\n",
    "# forward pass\n",
    "output = model(images)\n",
    "# get the maximum \"probability\" of each prediction and remove single-dimensional entries\n",
    "predictions = output.argmax(dim=1, keepdim=True).squeeze()\n",
    "# convert images to plot them\n",
    "images = images.numpy()\n",
    "\n",
    "# plots\n",
    "fig = plt.figure(figsize=(25, 4))\n",
    "for idx in np.arange(batch_size):\n",
    "    ax = fig.add_subplot(2, batch_size/2, idx+1, xticks=[], yticks=[])\n",
    "    ax.imshow(np.squeeze(images[idx]), cmap='gray')\n",
    "    ax.set_title(f'l: {labels[idx].item()} p: {predictions[idx].item()}', color=(\"green\" if predictions[idx]==labels[idx] else \"red\"))"
   ]
  },
  {
   "cell_type": "code",
   "execution_count": null,
   "metadata": {},
   "outputs": [],
   "source": []
  }
 ],
 "metadata": {
  "anaconda-cloud": {},
  "kernelspec": {
   "display_name": "Python 3",
   "language": "python",
   "name": "python3"
  },
  "language_info": {
   "codemirror_mode": {
    "name": "ipython",
    "version": 3
   },
   "file_extension": ".py",
   "mimetype": "text/x-python",
   "name": "python",
   "nbconvert_exporter": "python",
   "pygments_lexer": "ipython3",
   "version": "3.7.6"
  }
 },
 "nbformat": 4,
 "nbformat_minor": 4
}
