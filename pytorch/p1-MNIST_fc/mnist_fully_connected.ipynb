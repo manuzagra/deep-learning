{
 "cells": [
  {
   "cell_type": "code",
   "execution_count": 2,
   "metadata": {},
   "outputs": [],
   "source": [
    "# import libraries\n",
    "import torch\n",
    "import numpy as np"
   ]
  },
  {
   "cell_type": "markdown",
   "metadata": {},
   "source": [
    "## Load and analyze the data"
   ]
  },
  {
   "cell_type": "markdown",
   "metadata": {},
   "source": [
    "### Load the data and create dataloaders\n",
    "\n",
    "source: http://pytorch.org/docs/stable/torchvision/datasets.html"
   ]
  },
  {
   "cell_type": "code",
   "execution_count": 3,
   "metadata": {},
   "outputs": [],
   "source": [
    "from torchvision import datasets\n",
    "import torchvision.transforms as transforms\n",
    "\n",
    "# download the training and testing datasets\n",
    "# transform then to tensors\n",
    "train_dataset = datasets.MNIST(root='./data', train=True, download=True, transform=transforms.ToTensor())\n",
    "test_dataset = datasets.MNIST(root='./data', train=False, download=True, transform=transforms.ToTensor())"
   ]
  },
  {
   "cell_type": "code",
   "execution_count": 4,
   "metadata": {},
   "outputs": [],
   "source": [
    "from sklearn.model_selection import train_test_split\n",
    "\n",
    "# split train dataset in train and validation datasets\n",
    "# probably SubsetRandomSampler is a better way\n",
    "train_dataset, valid_dataset = train_test_split(train_dataset, train_size=0.8, random_state=42)"
   ]
  },
  {
   "cell_type": "code",
   "execution_count": 5,
   "metadata": {},
   "outputs": [
    {
     "name": "stdout",
     "output_type": "stream",
     "text": [
      "48000 samples for training.\n",
      "12000 samples for evaluation.\n",
      "10000 samples for testing.\n"
     ]
    }
   ],
   "source": [
    "from sklearn.model_selection import train_test_split\n",
    "from torch.utils.data.sampler import SubsetRandomSampler\n",
    "\n",
    "# batch size\n",
    "batch_size = 20\n",
    "\n",
    "# prepare dataloaders\n",
    "train_loader = torch.utils.data.DataLoader(train_dataset, batch_size=batch_size, shuffle=True, num_workers=0) # only train should be shuffled\n",
    "valid_loader = torch.utils.data.DataLoader(valid_dataset, batch_size=batch_size, shuffle=False, num_workers=0)\n",
    "test_loader = torch.utils.data.DataLoader(test_dataset, batch_size=batch_size, shuffle=False, num_workers=0)\n",
    "\n",
    "print(f'{len(train_loader.sampler)} samples for training.')\n",
    "print(f'{len(valid_loader.sampler)} samples for evaluation.')\n",
    "print(f'{len(test_loader.sampler)} samples for testing.')"
   ]
  },
  {
   "cell_type": "markdown",
   "metadata": {},
   "source": [
    "### Analyze the data\n",
    "\n",
    "This repository is already processed and we do not have to take care so we are just going to take a look and visualize a Batch of the data."
   ]
  },
  {
   "cell_type": "code",
   "execution_count": 6,
   "metadata": {},
   "outputs": [
    {
     "data": {
      "image/png": "[encoded data removed]",
      "text/plain": [
       "<Figure size 1800x288 with 20 Axes>"
      ]
     },
     "metadata": {},
     "output_type": "display_data"
    }
   ],
   "source": [
    "import matplotlib.pyplot as plt\n",
    "%matplotlib inline\n",
    "    \n",
    "# get one batch of the training images and plot them\n",
    "images, labels = iter(train_loader).next()\n",
    "images = images.numpy()\n",
    "\n",
    "fig = plt.figure(figsize=(25, 4))\n",
    "for idx in np.arange(batch_size):\n",
    "    ax = fig.add_subplot(2, batch_size/2, idx+1, xticks=[], yticks=[])\n",
    "    ax.imshow(np.squeeze(images[idx]), cmap='gray')\n",
    "    ax.set_title(str(labels[idx].item()), color=('black'))"
   ]
  },
  {
   "cell_type": "markdown",
   "metadata": {},
   "source": [
    "## Network Architecture\n",
    "\n",
    "The input is going to be an image (28x28x1) and the output must be a classification in 10 classes (0-9). The number and the size of the hidden layers can be variable."
   ]
  },
  {
   "cell_type": "code",
   "execution_count": 7,
   "metadata": {},
   "outputs": [],
   "source": [
    "import torch.nn as nn\n",
    "import torch.nn.functional as F\n",
    "\n",
    "# define the NN architecture\n",
    "class Net(nn.Module):\n",
    "    def __init__(self, input_dim, output_dim, *hiden_layers):\n",
    "        super().__init__()\n",
    "        \n",
    "        layers = []\n",
    "        last_dim = input_dim\n",
    "                \n",
    "        for idx, dim in enumerate(hiden_layers):\n",
    "            layers.append(nn.Linear(last_dim, dim))\n",
    "            layers.append(nn.ReLU())\n",
    "            layers.append(nn.Dropout(0.5))\n",
    "            last_dim = dim\n",
    "            \n",
    "        layers.append(nn.Linear(last_dim, output_dim))\n",
    "        \n",
    "        self.fc = nn.Sequential(*layers)\n",
    "\n",
    "    def forward(self, x):\n",
    "        # flatten the input, the -1 is like a wild card\n",
    "        x = x.view(-1, 28 * 28)\n",
    "        # pass though the network\n",
    "        x = self.fc(x)\n",
    "        return x"
   ]
  },
  {
   "cell_type": "code",
   "execution_count": 8,
   "metadata": {},
   "outputs": [
    {
     "name": "stdout",
     "output_type": "stream",
     "text": [
      "Net(\n",
      "  (fc): Sequential(\n",
      "    (0): Linear(in_features=784, out_features=250, bias=True)\n",
      "    (1): ReLU()\n",
      "    (2): Dropout(p=0.5, inplace=False)\n",
      "    (3): Linear(in_features=250, out_features=250, bias=True)\n",
      "    (4): ReLU()\n",
      "    (5): Dropout(p=0.5, inplace=False)\n",
      "    (6): Linear(in_features=250, out_features=10, bias=True)\n",
      "  )\n",
      ")\n"
     ]
    }
   ],
   "source": [
    "# create the network with 2 hidden layers of 250 neurons each one\n",
    "model = Net(28*28*1, 10, 250, 250)\n",
    "print(model)"
   ]
  },
  {
   "cell_type": "markdown",
   "metadata": {},
   "source": [
    "###  Loss Function and Optimizer\n",
    "\n",
    "Cross-entropy loss is a good start for classification (notice that softmax is not applied after the last fully connected layer in order to get the digits and no the probabilities) and the use of Adam optimizer for this kind of problems is quite standard."
   ]
  },
  {
   "cell_type": "code",
   "execution_count": 9,
   "metadata": {},
   "outputs": [],
   "source": [
    "# cross-entropy loss\n",
    "loss_fn = nn.CrossEntropyLoss()\n",
    "\n",
    "# adam optimizer\n",
    "optimizer = torch.optim.Adam(model.parameters())"
   ]
  },
  {
   "cell_type": "markdown",
   "metadata": {},
   "source": [
    "## Train"
   ]
  },
  {
   "cell_type": "code",
   "execution_count": 10,
   "metadata": {},
   "outputs": [
    {
     "data": {
      "text/plain": [
       "device(type='cuda')"
      ]
     },
     "execution_count": 10,
     "metadata": {},
     "output_type": "execute_result"
    }
   ],
   "source": [
    "# this function checks if GPU is available, if it is we will use to train the model\n",
    "def get_device():\n",
    "    return torch.device('cuda') if torch.cuda.is_available() else torch.device('cpu')\n",
    "get_device()"
   ]
  },
  {
   "cell_type": "code",
   "execution_count": 11,
   "metadata": {},
   "outputs": [],
   "source": [
    "# this function trains the model for one epoch\n",
    "def train(model, dataloader, optimizer, loss_fn):\n",
    "    # check if GPU is available, if it is use it\n",
    "    device = get_device()\n",
    "    # pass the model to the device and put it in training mode\n",
    "    model.to(device)\n",
    "    model.train()\n",
    "    # initialize the loss\n",
    "    total_loss = 0.0\n",
    "    # for every batch\n",
    "    for batch_idx, (data, target) in enumerate(dataloader):\n",
    "        # use GPU if available\n",
    "        data, target = data.to(device), target.to(device)\n",
    "        # restart the gradient\n",
    "        optimizer.zero_grad()\n",
    "        # forward pass\n",
    "        output = model(data)\n",
    "        # calculate the loss\n",
    "        loss = loss_fn(output, target)\n",
    "        # back propagation\n",
    "        loss.backward()\n",
    "        optimizer.step()\n",
    "        # update the loss\n",
    "        total_loss += loss.item()*len(data)\n",
    "    return total_loss/len(dataloader.dataset)"
   ]
  },
  {
   "cell_type": "code",
   "execution_count": 12,
   "metadata": {},
   "outputs": [],
   "source": [
    "# this function evaluate the performance of the model\n",
    "def test(model, dataloader, loss_fn):\n",
    "    # check if GPU is available, if it is use it\n",
    "    device = get_device()\n",
    "    # pass the model to the device and put it in evaluation mode\n",
    "    model.to(device)\n",
    "    model.eval()\n",
    "    # initialize the loss and the count of correct predictions\n",
    "    total_loss = 0.0\n",
    "    correct = 0\n",
    "    # not need of gradients for test (it may save some time and/or memory)\n",
    "    with torch.no_grad():\n",
    "        # for every batch\n",
    "        for batch_idx, (data, target) in enumerate(dataloader):\n",
    "            # use GPU if available\n",
    "            data, target = data.to(device), target.to(device)\n",
    "            # forward pass\n",
    "            output = model(data)\n",
    "            # calculate the loss\n",
    "            loss = loss_fn(output, target)\n",
    "            # update the loss\n",
    "            total_loss += loss.item()*len(data)\n",
    "            # it is nice to hace the accuracy as well\n",
    "            pred = output.argmax(dim=1, keepdim=True)  # get the index of the maximum\n",
    "            correct += pred.eq(target.view_as(pred)).sum().item()\n",
    "    return total_loss/len(dataloader.dataset), correct/len(dataloader.dataset)"
   ]
  },
  {
   "cell_type": "code",
   "execution_count": 13,
   "metadata": {},
   "outputs": [
    {
     "name": "stdout",
     "output_type": "stream",
     "text": [
      "Epoch 1/10\t\tTraining loss 0.3900\t\tValidation loss 0.1578\t\tValidation accuracy 0.9524\n",
      "Saving model...\n",
      "Epoch 2/10\t\tTraining loss 0.2154\t\tValidation loss 0.1220\t\tValidation accuracy 0.9628\n",
      "Saving model...\n",
      "Epoch 3/10\t\tTraining loss 0.1834\t\tValidation loss 0.1262\t\tValidation accuracy 0.9643\n",
      "Epoch 4/10\t\tTraining loss 0.1660\t\tValidation loss 0.0980\t\tValidation accuracy 0.9712\n",
      "Saving model...\n",
      "Epoch 5/10\t\tTraining loss 0.1533\t\tValidation loss 0.0957\t\tValidation accuracy 0.9708\n",
      "Saving model...\n",
      "Epoch 6/10\t\tTraining loss 0.1475\t\tValidation loss 0.0880\t\tValidation accuracy 0.9726\n",
      "Saving model...\n",
      "Epoch 7/10\t\tTraining loss 0.1386\t\tValidation loss 0.0873\t\tValidation accuracy 0.9746\n",
      "Saving model...\n",
      "Epoch 8/10\t\tTraining loss 0.1361\t\tValidation loss 0.0856\t\tValidation accuracy 0.9758\n",
      "Saving model...\n",
      "Epoch 9/10\t\tTraining loss 0.1274\t\tValidation loss 0.0854\t\tValidation accuracy 0.9751\n",
      "Saving model...\n",
      "Epoch 10/10\t\tTraining loss 0.1219\t\tValidation loss 0.0867\t\tValidation accuracy 0.9749\n"
     ]
    }
   ],
   "source": [
    "# number of epochs\n",
    "n_epochs = 10\n",
    "\n",
    "# we will keep track of the minimum validation loss achived and use it to save or not the model\n",
    "valid_loss_min = float('INF')\n",
    "# train the model for n_epochs epochs\n",
    "for epoch in range(n_epochs):\n",
    "    train_loss = train(model, train_loader, optimizer, loss_fn)\n",
    "    valid_loss, valid_acc = test(model, valid_loader, loss_fn)\n",
    "    print(f'Epoch {epoch+1}/{n_epochs}\\t\\tTraining loss {train_loss:.4f}\\t\\tValidation loss {valid_loss:.4f}\\t\\tValidation accuracy {valid_acc:.4f}')\n",
    "    \n",
    "    # save model only if validation loss has decreased\n",
    "    if valid_loss <= valid_loss_min:\n",
    "        print('Saving model...')\n",
    "        torch.save({'model': str(model), 'state_dict': model.state_dict()}, 'model.pt')\n",
    "        valid_loss_min = valid_loss"
   ]
  },
  {
   "cell_type": "markdown",
   "metadata": {},
   "source": [
    "###  Load \"the best\" Model"
   ]
  },
  {
   "cell_type": "code",
   "execution_count": 14,
   "metadata": {},
   "outputs": [
    {
     "name": "stdout",
     "output_type": "stream",
     "text": [
      "Saved model architecture:\n",
      "Net(\n",
      "  (fc): Sequential(\n",
      "    (0): Linear(in_features=784, out_features=250, bias=True)\n",
      "    (1): ReLU()\n",
      "    (2): Dropout(p=0.5, inplace=False)\n",
      "    (3): Linear(in_features=250, out_features=250, bias=True)\n",
      "    (4): ReLU()\n",
      "    (5): Dropout(p=0.5, inplace=False)\n",
      "    (6): Linear(in_features=250, out_features=10, bias=True)\n",
      "  )\n",
      ")\n",
      "-------------------------------------\n",
      "Current model architecture:\n",
      "Net(\n",
      "  (fc): Sequential(\n",
      "    (0): Linear(in_features=784, out_features=250, bias=True)\n",
      "    (1): ReLU()\n",
      "    (2): Dropout(p=0.5, inplace=False)\n",
      "    (3): Linear(in_features=250, out_features=250, bias=True)\n",
      "    (4): ReLU()\n",
      "    (5): Dropout(p=0.5, inplace=False)\n",
      "    (6): Linear(in_features=250, out_features=10, bias=True)\n",
      "  )\n",
      ")\n"
     ]
    }
   ],
   "source": [
    "saved = torch.load('model.pt')\n",
    "model.load_state_dict(saved['state_dict'], strict=False) # strict false allow us to partially load a model or load a partial model\n",
    "print('Saved model architecture:')\n",
    "print(saved['model'])\n",
    "print('-------------------------------------')\n",
    "print('Current model architecture:')\n",
    "print(saved['model'])"
   ]
  },
  {
   "cell_type": "markdown",
   "metadata": {},
   "source": [
    "## Test\n",
    "\n",
    "Testing should always be performed on unseen data. It is possible to do a more detailed analysis, for example testing the performance of the model in each class."
   ]
  },
  {
   "cell_type": "code",
   "execution_count": 15,
   "metadata": {},
   "outputs": [
    {
     "name": "stdout",
     "output_type": "stream",
     "text": [
      "Test loss 0.0868\t\tTest accuracy 0.9763\n"
     ]
    }
   ],
   "source": [
    "# we can use the same function than before\n",
    "test_loss, test_acc = test(model, test_loader, loss_fn)\n",
    "print(f'Test loss {test_loss:.4f}\\t\\tTest accuracy {test_acc:.4f}')"
   ]
  },
  {
   "cell_type": "markdown",
   "metadata": {},
   "source": [
    "### Visualize Results"
   ]
  },
  {
   "cell_type": "code",
   "execution_count": 16,
   "metadata": {},
   "outputs": [
    {
     "data": {
      "image/png": "[encoded data removed]",
      "text/plain": [
       "<Figure size 1800x288 with 20 Axes>"
      ]
     },
     "metadata": {},
     "output_type": "display_data"
    }
   ],
   "source": [
    "# test is not as heavy computation as training so we use the CPU\n",
    "model.cpu()\n",
    "\n",
    "# get one batch of the training images and plot them\n",
    "images, labels = iter(train_loader).next()\n",
    "# forward pass\n",
    "output = model(images)\n",
    "# get the maximum \"probability\" of each prediction and remove single-dimensional entries\n",
    "predictions = output.argmax(dim=1, keepdim=True).squeeze()\n",
    "# convert images to plot them\n",
    "images = images.numpy()\n",
    "\n",
    "# plots\n",
    "fig = plt.figure(figsize=(25, 4))\n",
    "for idx in np.arange(batch_size):\n",
    "    ax = fig.add_subplot(2, batch_size/2, idx+1, xticks=[], yticks=[])\n",
    "    ax.imshow(np.squeeze(images[idx]), cmap='gray')\n",
    "    ax.set_title(f'l: {labels[idx].item()} p: {predictions[idx].item()}', color=(\"green\" if predictions[idx]==labels[idx] else \"red\"))"
   ]
  }
 ],
 "metadata": {
  "anaconda-cloud": {},
  "kernelspec": {
   "display_name": "Python 3",
   "language": "python",
   "name": "python3"
  },
  "language_info": {
   "codemirror_mode": {
    "name": "ipython",
    "version": 3
   },
   "file_extension": ".py",
   "mimetype": "text/x-python",
   "name": "python",
   "nbconvert_exporter": "python",
   "pygments_lexer": "ipython3",
   "version": "3.7.6"
  }
 },
 "nbformat": 4,
 "nbformat_minor": 4
}
